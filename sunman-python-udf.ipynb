{
 "cells": [
  {
   "cell_type": "markdown",
   "metadata": {},
   "source": [
    "# Guide to Using Kinetica UDFs\n",
    "\n",
    "Here we describe how to write and run Kinetica UDFs. We will go through a number of examples using the Python and C++ UDF APIs:\n",
    "\n",
    "1. UDF using Python API to perform a (CPU-based) mathematical operation\n",
    "3. UDF using C++ API to access CUDA to perform a (GPU-based) mathematical operations\n",
    "\n",
    "# 0. Preliminaries #\n",
    "\n",
    "Start by customizing the following global Python variables, to be used in the examples below:"
   ]
  },
  {
   "cell_type": "code",
   "execution_count": 3,
   "metadata": {
    "collapsed": true
   },
   "outputs": [],
   "source": [
    "KINETICA_HOST = 'your_host'\n",
    "KINETICA_PORT = '9191'\n",
    "USER_NAME = 'admin'\n",
    "PASSWORD = '*****'"
   ]
  },
  {
   "cell_type": "markdown",
   "metadata": {},
   "source": [
    "Next, pull the necessary APIs from GitHub. First, we have Kinetica APIs — of these, we will use only the Kinetica Python API. Second, we will also need the Kinetica-UDF API — in the examples below we will use both the Python and C++ variants. "
   ]
  },
  {
   "cell_type": "code",
   "execution_count": 4,
   "metadata": {
    "scrolled": true
   },
   "outputs": [
    {
     "name": "stderr",
     "output_type": "stream",
     "text": [
      "fatal: destination path '../kinetica-api-python' already exists and is not an empty directory.\n",
      "fatal: destination path '../kinetica-udf-api-python' already exists and is not an empty directory.\n",
      "fatal: destination path '../kinetica-udf-api-cpp' already exists and is not an empty directory.\n"
     ]
    }
   ],
   "source": [
    "%%bash\n",
    "git clone https://github.com/kineticadb/kinetica-api-python.git ../kinetica-api-python\n",
    "git clone https://github.com/kineticadb/kinetica-udf-api-python.git ../kinetica-udf-api-python\n",
    "git clone https://github.com/kineticadb/kinetica-udf-api-cpp.git ../kinetica-udf-api-cpp"
   ]
  },
  {
   "cell_type": "markdown",
   "metadata": {},
   "source": [
    "Next, we will connect to Kinetica:"
   ]
  },
  {
   "cell_type": "code",
   "execution_count": 5,
   "metadata": {
    "collapsed": true,
    "scrolled": true
   },
   "outputs": [],
   "source": [
    "import sys\n",
    "sys.path.insert(0,'../kinetica-api-python/gpudb')\n",
    "import collections"
   ]
  },
  {
   "cell_type": "code",
   "execution_count": 6,
   "metadata": {
    "collapsed": true,
    "scrolled": true
   },
   "outputs": [],
   "source": [
    "import gpudb\n",
    "import json\n",
    "import numpy as np\n",
    "import pandas as pd\n",
    "#import tensorflow as tf\n",
    "\n",
    "h_db = gpudb.GPUdb(encoding = 'BINARY', host = KINETICA_HOST+':'+KINETICA_PORT,  username=USER_NAME, password=PASSWORD)"
   ]
  },
  {
   "cell_type": "markdown",
   "metadata": {
    "collapsed": true
   },
   "source": [
    "First, start by creating the table we will fill:"
   ]
  },
  {
   "cell_type": "code",
   "execution_count": 7,
   "metadata": {
    "collapsed": true
   },
   "outputs": [],
   "source": [
    "INPUT_TABLE = 'in_table'\n",
    "\n",
    "source_type = \"\"\"\n",
    "{\n",
    "    \"type\": \"record\",\n",
    "    \"name\": \"source_type\",\n",
    "    \"fields\": [\n",
    "            {\"name\":\"x1\",\"type\":\"float\"},\n",
    "            {\"name\":\"x2\",\"type\":\"float\"}\n",
    "    ]\n",
    "}  \"\"\" \n",
    "    \n",
    "response = h_db.create_type( type_definition = source_type, label = 'source_type_lbl', properties = {})\n",
    "type_id = response['type_id']\n",
    "response = h_db.clear_table( table_name = INPUT_TABLE )\n",
    "response = h_db.create_table( table_name = INPUT_TABLE, type_id = type_id)\n",
    "response = h_db.create_table( table_name = INPUT_TABLE, type_id = type_id)"
   ]
  },
  {
   "cell_type": "markdown",
   "metadata": {
    "collapsed": true
   },
   "source": [
    "Next we will fill this table with some random data:"
   ]
  },
  {
   "cell_type": "code",
   "execution_count": 8,
   "metadata": {
    "collapsed": true
   },
   "outputs": [],
   "source": [
    "import random\n",
    "\n",
    "encoded_obj_list = []\n",
    "for val in range(10000):\n",
    "   datum = collections.OrderedDict()\n",
    "   datum[\"x1\"] = random.gauss(1,1)\n",
    "   datum[\"x2\"] = random.gauss(1,2)\n",
    "   encoded_obj_list.append(h_db.encode_datum(source_type, datum))\n",
    "response = h_db.insert_records( table_name = INPUT_TABLE,data = encoded_obj_list,list_encoding = 'binary',options = {})"
   ]
  },
  {
   "cell_type": "markdown",
   "metadata": {},
   "source": [
    "Finally, we will create an (empty) output table, which we will fill by using UDFs:"
   ]
  },
  {
   "cell_type": "code",
   "execution_count": 9,
   "metadata": {
    "collapsed": true
   },
   "outputs": [],
   "source": [
    "OUTPUT_TABLE = 'out_table'\n",
    "out_type = \"\"\"\n",
    "{\n",
    "    \"type\": \"record\",\n",
    "    \"name\": \"out_type\",\n",
    "    \"fields\": [\n",
    "            {\"name\":\"y\",\"type\":\"float\"}\n",
    "    ]\n",
    "}  \"\"\".replace(' ','').replace('\\n','')\n",
    "    \n",
    "response = h_db.create_type( type_definition = out_type, label = 'out_type_lbl', properties = {})\n",
    "type_id = response['type_id']\n",
    "response = h_db.clear_table( table_name = OUTPUT_TABLE)\n",
    "response = h_db.create_table( table_name = OUTPUT_TABLE, type_id = type_id)"
   ]
  },
  {
   "cell_type": "markdown",
   "metadata": {},
   "source": [
    "# 1. Basic Python UDF\n",
    "\n",
    "We will start with a basic Python UDF. \n",
    "\n",
    "The following script works by first accessing the data from the API's ProcData(). We assume there is only one input table and one output table, which can therefore be accessed from the API via proc_data.input_data[0] and proc_data.output_data[0]. The next line then performs the calculation: y = x1^2 + x2^2\n",
    "\n",
    "The final three lines then complete the API call, by loading the out_table structure into Kinetica.\n",
    "\n",
    "When developing Kinetica UDFs, it is helpful to create a log-file for troubleshooting. Since the UDF is run by the user gpudb_proc, we write this in its home directory:"
   ]
  },
  {
   "cell_type": "code",
   "execution_count": 10,
   "metadata": {
    "scrolled": true
   },
   "outputs": [
    {
     "name": "stdout",
     "output_type": "stream",
     "text": [
      "Overwriting simple_python_udf.py\n"
     ]
    }
   ],
   "source": [
    "%%writefile simple_python_udf.py\n",
    "from kinetica_proc import ProcData\n",
    "from collections import OrderedDict\n",
    "import math\n",
    "\n",
    "#INPUT_TABLE = 'in_table'\n",
    "#OUTPUT_TABLE = 'out_table'\n",
    "\n",
    "proc_data = ProcData()\n",
    "\n",
    "log  = open('/home/gpudb_proc/log_file','w')\n",
    "log.write('Log file...:')\n",
    "\n",
    "in_table = proc_data.input_data[\"in_table\"]\n",
    "x1 = in_table[\"x1\"]\n",
    "x2 = in_table[\"x2\"]\n",
    "\n",
    "##call library here\n",
    "\n",
    "out_table = proc_data.output_data[\"out_table\"]\n",
    "y = out_table[\"y\"]\n",
    "\n",
    "log.write('x1 column: ' + x1.name + '\\n')\n",
    "log.write('x2 column: ' + x2.name + '\\n')\n",
    "log.write('y column: ' + y.name + '\\n')\n",
    "\n",
    "out_table.size = in_table.size\n",
    "\n",
    "for i in xrange(0, in_table.size):\n",
    "    y[i] = x1[i] ** 2 + x2[i] ** 2\n",
    "\n",
    "proc_data.complete()"
   ]
  },
  {
   "cell_type": "markdown",
   "metadata": {},
   "source": [
    "# 2. Creating a Kinetica proc\n",
    "\n",
    "Having created a UDF file, we can use the /create/proc endpoint to load it as a Kinetica UDF (i.e. proc). We need to specify a proc_name, the file_name(s) to upload, the command and arguments used to run the proc, and the execution mode (i.e. 'distributed' or 'nondistributed').\n",
    "\n",
    "For the ease of this Jupyter notebook, start by specifying the following options:"
   ]
  },
  {
   "cell_type": "code",
   "execution_count": 11,
   "metadata": {
    "collapsed": true
   },
   "outputs": [],
   "source": [
    "proc_name = 'simple_python_udf'\n",
    "proc_language = 'python'\n",
    "execution_mode = 'distributed'"
   ]
  },
  {
   "cell_type": "code",
   "execution_count": 12,
   "metadata": {},
   "outputs": [
    {
     "name": "stdout",
     "output_type": "stream",
     "text": [
      "OrderedDict([(u'proc_name', u'simple_python_udf'), ('status_info', OrderedDict([(u'status', u'OK'), (u'message', u''), (u'data_type', u'create_proc_response'), ('response_time', 0.0851)]))])\n"
     ]
    }
   ],
   "source": [
    "if proc_language=='python':\n",
    "   file_names = [proc_name + '.py']\n",
    "   command = 'python'\n",
    "   args=[file_names[0]]\n",
    "elif proc_language=='cpp':\n",
    "   file_names = [proc_name]\n",
    "   command = './' + proc_name\n",
    "   args=['0']\n",
    "else:\n",
    "   raise Exception('Unknown language, set above')\n",
    "options={}\n",
    "\n",
    "files = {}\n",
    "\n",
    "for file_name in file_names:\n",
    "    bytes = ''\n",
    "    file = open(file_name, 'rb')\n",
    "    while True:\n",
    "        chunk = file.read(1024)  \n",
    "        if not chunk:\n",
    "            break\n",
    "        bytes = bytes + chunk\n",
    "    files[file_name] = bytes\n",
    "    file.close()\n",
    "        \n",
    "    \n",
    "if h_db.has_proc(proc_name)['proc_exists']:\n",
    "    response = h_db.delete_proc(proc_name)\n",
    "\n",
    "response = h_db.create_proc(proc_name, execution_mode, files, command, args, options)\n",
    "print response"
   ]
  },
  {
   "cell_type": "code",
   "execution_count": 14,
   "metadata": {},
   "outputs": [
    {
     "name": "stdout",
     "output_type": "stream",
     "text": [
      "OrderedDict([(u'proc_name', u'simple_python_udf'), (u'proc_exists', True), ('status_info', OrderedDict([(u'status', u'OK'), (u'message', u''), (u'data_type', u'has_proc_response'), ('response_time', 0.00014)]))])\n"
     ]
    }
   ],
   "source": [
    "print h_db.has_proc(proc_name)"
   ]
  },
  {
   "cell_type": "markdown",
   "metadata": {},
   "source": [
    "# 3. Executing a Kinetica proc\n",
    "\n",
    "Now that the proc has been created, it can subsequently be executed via the /execute/proc endpoint. For example, using the Python API:"
   ]
  },
  {
   "cell_type": "code",
   "execution_count": 73,
   "metadata": {},
   "outputs": [
    {
     "name": "stdout",
     "output_type": "stream",
     "text": [
      "OrderedDict([(u'run_id', u'2'), ('status_info', OrderedDict([(u'status', u'OK'), (u'message', u''), (u'data_type', u'execute_proc_response'), ('response_time', 0.01786)]))])\n"
     ]
    }
   ],
   "source": [
    "params = {}\n",
    "bin_params = {}\n",
    "input_table_names = [INPUT_TABLE]\n",
    "input_column_names = {}\n",
    "output_table_names = [OUTPUT_TABLE]\n",
    "options = {} \n",
    "\n",
    "response = h_db.execute_proc(proc_name, params, bin_params, input_table_names, input_column_names, output_table_names, options )\n",
    "print response"
   ]
  },
  {
   "cell_type": "markdown",
   "metadata": {},
   "source": [
    "## 4. Output\n",
    "Show output of proc (out_table)"
   ]
  },
  {
   "cell_type": "code",
   "execution_count": 83,
   "metadata": {},
   "outputs": [
    {
     "data": {
      "text/plain": [
       "[]"
      ]
     },
     "execution_count": 83,
     "metadata": {},
     "output_type": "execute_result"
    }
   ],
   "source": [
    "response = h_db.get_records('out_table', 0, 10,'json', {})\n",
    "od = OrderedDict(response)\n",
    "od.keys()\n",
    "od['records_json']\n"
   ]
  },
  {
   "cell_type": "code",
   "execution_count": null,
   "metadata": {
    "collapsed": true
   },
   "outputs": [],
   "source": []
  }
 ],
 "metadata": {
  "celltoolbar": "Raw Cell Format",
  "kernelspec": {
   "display_name": "Python 2",
   "language": "python",
   "name": "python2"
  },
  "language_info": {
   "codemirror_mode": {
    "name": "ipython",
    "version": 2
   },
   "file_extension": ".py",
   "mimetype": "text/x-python",
   "name": "python",
   "nbconvert_exporter": "python",
   "pygments_lexer": "ipython2",
   "version": "2.7.5"
  }
 },
 "nbformat": 4,
 "nbformat_minor": 2
}
