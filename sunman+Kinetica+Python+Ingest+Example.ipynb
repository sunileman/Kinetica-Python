{
 "cells": [
  {
   "cell_type": "markdown",
   "metadata": {
    "collapsed": true
   },
   "source": [
    "# Kinetica Ingest Using Python\n",
    "This notebook is simple demostration on ingest data into Kinetica"
   ]
  },
  {
   "cell_type": "code",
   "execution_count": null,
   "metadata": {},
   "outputs": [],
   "source": [
    "import os\n",
    "import fnmatch\n",
    "import sys\n",
    "sys.path.insert(0, '/opt/gpudb/api/python/gpudb/')\n",
    "sys.path.insert(0, '/opt/gpudb/api/python/gpudb/packages')\n",
    "\n",
    "import cStringIO\n",
    "import collections\n",
    "from avro import schema, io\n",
    "import base64\n",
    "import gpudb\n",
    "import random\n",
    "import math\n",
    "from faker import Factory\n",
    "fake = Factory.create()\n",
    "import time\n",
    "\n",
    "myTable=\"spark_testing\"\n",
    "gpudb_host = \"127.0.0.1\"\n",
    "my_collection = \"MASTER\"\n",
    "my_table = \"caltech256\"\n",
    "h_db = gpudb.GPUdb(encoding = 'BINARY', host = gpudb_host, port = '9191', username='admin', password= '***!')\n",
    "\n",
    "#import…gpudb.GPUdb(encoding='BINARY', host='127.0.0.1:9082', username='vn99431', password='Fulminata1966!'"
   ]
  },
  {
   "cell_type": "markdown",
   "metadata": {},
   "source": [
    "Fetch the table type (schema)"
   ]
  },
  {
   "cell_type": "code",
   "execution_count": null,
   "metadata": {},
   "outputs": [],
   "source": [
    "response = h_db.show_table(myTable, options={})\n",
    "print response"
   ]
  },
  {
   "cell_type": "markdown",
   "metadata": {},
   "source": [
    "Parse the type from orderer Dict"
   ]
  },
  {
   "cell_type": "code",
   "execution_count": null,
   "metadata": {},
   "outputs": [],
   "source": [
    "myTableType=None\n",
    "for k, v in response.items():\n",
    "    if k == \"type_schemas\":\n",
    "        myTableType= v[0].replace(' ','').replace('\\n','')"
   ]
  },
  {
   "cell_type": "markdown",
   "metadata": {},
   "source": [
    "Loop 100 times to create dummy data"
   ]
  },
  {
   "cell_type": "code",
   "execution_count": null,
   "metadata": {},
   "outputs": [],
   "source": [
    "encoded_obj_list = []\n",
    "#insert 100 records\n",
    "for val in range(100):\n",
    "    datum = collections.OrderedDict()\n",
    "    datum[\"id\"] = val\n",
    "    datum[\"first_name\"] =\"sun\"\n",
    "    datum[\"last_name\"] = \"man\"\n",
    "    datum[\"email\"] = \"goodle\"\n",
    "    datum[\"x\"] = 1\n",
    "    datum[\"y\"] = 1\n",
    "    encoded_obj_list.append(h_db.encode_datum(myTableType, datum))\n",
    "\n",
    "response = h_db.insert_records( table_name = myTable,data = encoded_obj_list,list_encoding = 'binary',options = {})\n",
    "print response\n"
   ]
  },
  {
   "cell_type": "code",
   "execution_count": null,
   "metadata": {
    "collapsed": true
   },
   "outputs": [],
   "source": []
  }
 ],
 "metadata": {
  "kernelspec": {
   "display_name": "Python 2",
   "language": "python",
   "name": "python2"
  },
  "language_info": {
   "codemirror_mode": {
    "name": "ipython",
    "version": 2
   },
   "file_extension": ".py",
   "mimetype": "text/x-python",
   "name": "python",
   "nbconvert_exporter": "python",
   "pygments_lexer": "ipython2",
   "version": "2.7.5"
  }
 },
 "nbformat": 4,
 "nbformat_minor": 2
}
