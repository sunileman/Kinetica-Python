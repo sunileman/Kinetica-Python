{
 "cells": [
  {
   "cell_type": "code",
   "execution_count": null,
   "metadata": {
    "collapsed": true
   },
   "outputs": [],
   "source": [
    "import os\n",
    "import fnmatch\n",
    "import sys\n",
    "sys.path.insert(0, '/opt/gpudb/api/python/gpudb/')\n",
    "sys.path.insert(0, '/opt/gpudb/api/python/gpudb/packages')\n",
    "\n",
    "import cStringIO\n",
    "import collections\n",
    "from avro import schema, io\n",
    "import base64\n",
    "import gpudb\n",
    "import random\n",
    "import math\n",
    "from faker import Factory\n",
    "fake = Factory.create()\n",
    "import time\n",
    "\n",
    "gpudb_host = \"127.0.0.1\"\n",
    "my_collection = \"MASTER\"\n",
    "my_table = \"caltech256\"\n",
    "h_db = gpudb.GPUdb(encoding = 'BINARY', host = gpudb_host, port = '9191')"
   ]
  },
  {
   "cell_type": "code",
   "execution_count": null,
   "metadata": {
    "collapsed": true
   },
   "outputs": [],
   "source": [
    "h_db.clear_table( table_name = my_table, authorization = '', options = {} )"
   ]
  },
  {
   "cell_type": "code",
   "execution_count": null,
   "metadata": {
    "collapsed": true
   },
   "outputs": [],
   "source": [
    "x=[]\n",
    "y=[]\n",
    "response = h_db.get_records(table_name='netflow_sunman',offset=0,limit=20000)\n",
    "res_decoded = gpudb.GPUdbRecord.decode_binary_data(response[\"type_schema\"], response[\"records_binary\"])\n",
    "for index in range(19999):\n",
    "    for k, v in res_decoded[index].items():\n",
    "        if k == 'x':\n",
    "            x.append(float(v))\n",
    "        if k == 'y':\n",
    "            y.append(float(v))\n",
    "            \n",
    "response = h_db.get_records(table_name='netflow_sunman',offset=20000,limit=20000)\n",
    "res_decoded = gpudb.GPUdbRecord.decode_binary_data(response[\"type_schema\"], response[\"records_binary\"])\n",
    "for index in range(19999):\n",
    "    for k, v in res_decoded[index].items():\n",
    "        if k == 'x':\n",
    "            x.append(float(v))\n",
    "        if k == 'y':\n",
    "            y.append(float(v))\n",
    "   "
   ]
  },
  {
   "cell_type": "code",
   "execution_count": 320,
   "metadata": {
    "collapsed": true
   },
   "outputs": [],
   "source": [
    "COUNT = 0\n",
    "def getLatLong():\n",
    "    global COUNT\n",
    "    COUNT = COUNT+1\n",
    "    return x[COUNT], y[COUNT]\n"
   ]
  },
  {
   "cell_type": "code",
   "execution_count": 324,
   "metadata": {},
   "outputs": [
    {
     "name": "stdout",
     "output_type": "stream",
     "text": [
      "<gpudb.GPUdbRecordType object at 0x3d01490>\n"
     ]
    }
   ],
   "source": [
    "columns = []\n",
    "columns.append(gpudb.GPUdbRecordColumn(\"id\", gpudb.GPUdbRecordColumn._ColumnType.STRING, [gpudb.GPUdbColumnProperty.CHAR16]))\n",
    "columns.append(gpudb.GPUdbRecordColumn(\"state_province\", gpudb.GPUdbRecordColumn._ColumnType.STRING, [gpudb.GPUdbColumnProperty.CHAR32]))\n",
    "columns.append(gpudb.GPUdbRecordColumn(\"country\", gpudb.GPUdbRecordColumn._ColumnType.STRING, [gpudb.GPUdbColumnProperty.CHAR64]))\n",
    "columns.append(gpudb.GPUdbRecordColumn(\"x\", gpudb.GPUdbRecordColumn._ColumnType.FLOAT))\n",
    "columns.append(gpudb.GPUdbRecordColumn(\"y\", gpudb.GPUdbRecordColumn._ColumnType.FLOAT))\n",
    "columns.append(gpudb.GPUdbRecordColumn(\"date\", gpudb.GPUdbRecordColumn._ColumnType.STRING, [gpudb.GPUdbColumnProperty.DATE]))\n",
    "columns.append(gpudb.GPUdbRecordColumn(\"timestamp\", gpudb.GPUdbRecordColumn._ColumnType.LONG, [gpudb.GPUdbColumnProperty.TIMESTAMP]))\n",
    "columns.append(gpudb.GPUdbRecordColumn(\"image\", gpudb.GPUdbRecordColumn._ColumnType.BYTES))\n",
    "\n",
    "# Create the type object\n",
    "image_record_type = gpudb.GPUdbRecordType(columns, label=\"image_record_type\")\n",
    "print image_record_type\n",
    "\n",
    "\"\"\" Create the type in the database and save the type ID, needed to create\n",
    "    a table in the next step \"\"\"\n",
    "image_record_type.create_type(h_db)\n",
    "image_type_id = image_record_type.type_id\n",
    "\n"
   ]
  },
  {
   "cell_type": "code",
   "execution_count": null,
   "metadata": {
    "collapsed": true
   },
   "outputs": [],
   "source": [
    "response = h_db.create_table(table_name=my_table, type_id=image_type_id,options = {\"collection_name\":my_collection})\n",
    "print \"Table created:  {}\".format(response['status_info']['status'])\n"
   ]
  },
  {
   "cell_type": "code",
   "execution_count": 321,
   "metadata": {
    "collapsed": true
   },
   "outputs": [],
   "source": [
    "encoded_obj_list = []\n",
    "\n",
    "\n",
    "for root, dirs, files in os.walk(\"/home/jupyter/256_ObjectCategories\"):\n",
    "    for file in files:\n",
    "        if file.endswith(\".jpg\"):\n",
    "             with open(os.path.join(root, file), \"rb\") as imageFile:\n",
    "                  str = imageFile.read()\n",
    "                  lon, lat=getLatLong()\n",
    "                  encoded_obj_list.append(gpudb.GPUdbRecord(image_record_type, [file, fake.state(), fake.country(), lon, lat, fake.date(), int(time.time()), str]).binary_data)\n",
    "\n"
   ]
  },
  {
   "cell_type": "code",
   "execution_count": 322,
   "metadata": {},
   "outputs": [
    {
     "name": "stdout",
     "output_type": "stream",
     "text": [
      "OrderedDict([(u'record_ids', []), (u'count_inserted', 30607), (u'count_updated', 0), ('status_info', OrderedDict([(u'status', u'OK'), (u'message', u''), (u'data_type', u'insert_records_response_avro'), ('response_time', 24.5383)]))])\n"
     ]
    }
   ],
   "source": [
    "response = h_db.insert_records(table_name=my_table, data=encoded_obj_list, list_encoding=\"binary\", options={})\n",
    "print response"
   ]
  }
 ],
 "metadata": {
  "kernelspec": {
   "display_name": "Python 2",
   "language": "python",
   "name": "python2"
  },
  "language_info": {
   "codemirror_mode": {
    "name": "ipython",
    "version": 2
   },
   "file_extension": ".py",
   "mimetype": "text/x-python",
   "name": "python",
   "nbconvert_exporter": "python",
   "pygments_lexer": "ipython2",
   "version": "2.7.5"
  }
 },
 "nbformat": 4,
 "nbformat_minor": 2
}
