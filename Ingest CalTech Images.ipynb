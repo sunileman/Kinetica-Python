{
 "cells": [
  {
   "cell_type": "markdown",
   "metadata": {},
   "source": [
    "# This notebook demonstates how to ingest images into Kinetica"
   ]
  },
  {
   "cell_type": "markdown",
   "metadata": {},
   "source": [
    "## Import libs which will be used for this demo"
   ]
  },
  {
   "cell_type": "code",
   "execution_count": 19,
   "metadata": {},
   "outputs": [],
   "source": [
    "import os\n",
    "import fnmatch\n",
    "import sys\n",
    "sys.path.insert(0, '/opt/gpudb/api/python/gpudb/')\n",
    "sys.path.insert(0, '/opt/gpudb/api/python/gpudb/packages')\n",
    "\n",
    "import cStringIO\n",
    "import collections\n",
    "from avro import schema, io\n",
    "import base64\n",
    "import gpudb\n",
    "import random\n",
    "import math\n",
    "from faker import Factory\n",
    "fake = Factory.create()\n",
    "import time\n",
    "\n",
    "gpudb_host = \"127.0.0.1\"\n",
    "my_collection = \"MASTER\"\n",
    "my_table = \"caltech256\"\n",
    "h_db = gpudb.GPUdb(encoding = 'BINARY', host = gpudb_host, port = '9191')"
   ]
  },
  {
   "cell_type": "markdown",
   "metadata": {},
   "source": [
    "## Drop table"
   ]
  },
  {
   "cell_type": "code",
   "execution_count": 20,
   "metadata": {},
   "outputs": [
    {
     "data": {
      "text/plain": [
       "{'status_info': {u'data_type': u'clear_table_response_avro',\n",
       "  u'message': u'',\n",
       "  'response_time': 1.52914,\n",
       "  u'status': u'OK'},\n",
       " u'table_name': u'caltech256'}"
      ]
     },
     "execution_count": 20,
     "metadata": {},
     "output_type": "execute_result"
    }
   ],
   "source": [
    "h_db.clear_table( table_name = my_table, authorization = '', options = {} )"
   ]
  },
  {
   "cell_type": "markdown",
   "metadata": {},
   "source": [
    "## Fetch enrichment data"
   ]
  },
  {
   "cell_type": "code",
   "execution_count": 13,
   "metadata": {},
   "outputs": [],
   "source": [
    "x=[]\n",
    "y=[]\n",
    "cities=[]\n",
    "countries=[]\n",
    "toFetch=40000\n",
    "fetched=0\n",
    "\n",
    "while(toFetch>fetched):\n",
    "    response = h_db.get_records(table_name='netflow',offset=fetched,limit=20000)\n",
    "    res_decoded = gpudb.GPUdbRecord.decode_binary_data(response[\"type_schema\"], response[\"records_binary\"])\n",
    "    \n",
    "    fetched+=len(res_decoded)\n",
    "    \n",
    "    for index in range(19999):\n",
    "        for k, v in res_decoded[index].items():\n",
    "            if k == 'x':\n",
    "                x.append(float(v))\n",
    "            if k == 'y':\n",
    "                y.append(float(v))\n",
    "            if k == 'CITY':\n",
    "                cities.append(v)\n",
    "            if k == 'COUNTRY':\n",
    "                countries.append(v)            \n",
    "   "
   ]
  },
  {
   "cell_type": "markdown",
   "metadata": {},
   "source": [
    "## Method which returns enrichment data"
   ]
  },
  {
   "cell_type": "code",
   "execution_count": 14,
   "metadata": {},
   "outputs": [],
   "source": [
    "eCOUNT = 0\n",
    "def getEnrichmentData():\n",
    "    global eCOUNT\n",
    "    eCOUNT = eCOUNT+1\n",
    "    return x[eCOUNT], y[eCOUNT], cities[eCOUNT], countries[eCOUNT]\n"
   ]
  },
  {
   "cell_type": "markdown",
   "metadata": {},
   "source": [
    "## Create table which will store images and other related fields"
   ]
  },
  {
   "cell_type": "code",
   "execution_count": 22,
   "metadata": {},
   "outputs": [
    {
     "name": "stdout",
     "output_type": "stream",
     "text": [
      "<gpudb.GPUdbRecordType object at 0x7f405b952b50>\n"
     ]
    }
   ],
   "source": [
    "columns = []\n",
    "columns.append(gpudb.GPUdbRecordColumn(\"id\", gpudb.GPUdbRecordColumn._ColumnType.STRING, [gpudb.GPUdbColumnProperty.CHAR16, gpudb.GPUdbColumnProperty.SHARD_KEY]))\n",
    "columns.append(gpudb.GPUdbRecordColumn(\"city\", gpudb.GPUdbRecordColumn._ColumnType.STRING, [gpudb.GPUdbColumnProperty.CHAR64]))\n",
    "columns.append(gpudb.GPUdbRecordColumn(\"country\", gpudb.GPUdbRecordColumn._ColumnType.STRING, [gpudb.GPUdbColumnProperty.CHAR64]))\n",
    "columns.append(gpudb.GPUdbRecordColumn(\"x\", gpudb.GPUdbRecordColumn._ColumnType.FLOAT))\n",
    "columns.append(gpudb.GPUdbRecordColumn(\"y\", gpudb.GPUdbRecordColumn._ColumnType.FLOAT))\n",
    "columns.append(gpudb.GPUdbRecordColumn(\"date\", gpudb.GPUdbRecordColumn._ColumnType.STRING, [gpudb.GPUdbColumnProperty.DATE]))\n",
    "columns.append(gpudb.GPUdbRecordColumn(\"timestamp\", gpudb.GPUdbRecordColumn._ColumnType.LONG, [gpudb.GPUdbColumnProperty.TIMESTAMP]))\n",
    "columns.append(gpudb.GPUdbRecordColumn(\"image\", gpudb.GPUdbRecordColumn._ColumnType.BYTES))\n",
    "\n",
    "# Create the type object\n",
    "image_record_type = gpudb.GPUdbRecordType(columns, label=\"image_record_type\")\n",
    "print image_record_type\n",
    "\n",
    "\"\"\" Create the type in the database and save the type ID, needed to create\n",
    "    a table in the next step \"\"\"\n",
    "image_record_type.create_type(h_db)\n",
    "image_type_id = image_record_type.type_id\n",
    "\n"
   ]
  },
  {
   "cell_type": "code",
   "execution_count": 23,
   "metadata": {},
   "outputs": [
    {
     "name": "stdout",
     "output_type": "stream",
     "text": [
      "Table created:  OK\n"
     ]
    }
   ],
   "source": [
    "response = h_db.create_table(table_name=my_table, type_id=image_type_id,options = {\"collection_name\":my_collection})\n",
    "print \"Table created:  {}\".format(response['status_info']['status'])\n"
   ]
  },
  {
   "cell_type": "markdown",
   "metadata": {},
   "source": [
    "## Grab images from local file system and ingest into Kinetica"
   ]
  },
  {
   "cell_type": "code",
   "execution_count": 24,
   "metadata": {},
   "outputs": [],
   "source": [
    "encoded_obj_list = []\n",
    "\n",
    "eCOUNT = 0\n",
    "for root, dirs, files in os.walk(\"/home/ec2-user/images/256_ObjectCategories\"):\n",
    "    for file in files:\n",
    "        if file.endswith(\".jpg\"):\n",
    "             with open(os.path.join(root, file), \"rb\") as imageFile:\n",
    "                  str = imageFile.read()\n",
    "                  lon, lat, city, country=getEnrichmentData()\n",
    "                  encoded_obj_list.append(gpudb.GPUdbRecord(image_record_type, [file, city, country, lon, lat, fake.date(), int(time.time()), str]).binary_data)\n",
    "\n"
   ]
  },
  {
   "cell_type": "code",
   "execution_count": 25,
   "metadata": {},
   "outputs": [
    {
     "name": "stdout",
     "output_type": "stream",
     "text": [
      "{u'count_updated': 0, u'record_ids': [], 'status_info': {u'status': u'OK', u'data_type': u'insert_records_response_avro', u'message': u'', 'response_time': 6.34109}, u'count_inserted': 30607}\n"
     ]
    }
   ],
   "source": [
    "response = h_db.insert_records(table_name=my_table, data=encoded_obj_list, list_encoding=\"binary\", options={})\n",
    "print response"
   ]
  },
  {
   "cell_type": "code",
   "execution_count": null,
   "metadata": {},
   "outputs": [],
   "source": []
  }
 ],
 "metadata": {
  "kernelspec": {
   "display_name": "Python 2",
   "language": "python",
   "name": "python2"
  },
  "language_info": {
   "codemirror_mode": {
    "name": "ipython",
    "version": 2
   },
   "file_extension": ".py",
   "mimetype": "text/x-python",
   "name": "python",
   "nbconvert_exporter": "python",
   "pygments_lexer": "ipython2",
   "version": "2.7.12"
  }
 },
 "nbformat": 4,
 "nbformat_minor": 2
}
