{
 "cells": [
  {
   "cell_type": "markdown",
   "metadata": {},
   "source": [
    "## setup connection, create table"
   ]
  },
  {
   "cell_type": "code",
   "execution_count": 14,
   "metadata": {
    "collapsed": true
   },
   "outputs": [],
   "source": [
    "import sys\n",
    "sys.path.insert(0, '/opt/gpudb/api/python/gpudb/')\n",
    "sys.path.insert(0, '/opt/gpudb/api/python/gpudb/packages')\n",
    "import gpudb\n",
    "import cStringIO\n",
    "import collections\n",
    "from avro import schema, io\n",
    "import os\n",
    "\n",
    "# init\n",
    "gpudb_host = \"127.0.0.1\"\n",
    "h_db = gpudb.GPUdb(encoding = 'BINARY', host = gpudb_host, port = '9191')\n",
    "\n",
    "my_type = \"\"\"\n",
    "{\n",
    "    \"type\": \"record\",\n",
    "    \"name\": \"image\",\n",
    "    \"fields\": [\n",
    "    {\"name\":\"image\",\"type\":\"bytes\"}\n",
    "    ]\n",
    "}\"\"\".replace('\\n', '').replace(' ', '')   \n",
    "\n",
    "def creatTable(type_def=my_type,table_name=\"imageTableInference\",type_prop=type_properties,collection=\"MASTER\"):   \n",
    "    response = h_db.create_type( type_definition=type_def, label = 'image')\n",
    "    type_id = response['type_id']\n",
    "    if h_db.has_table(table_name=table_name):\n",
    "        h_db.clear_table(table_name=table_name)\n",
    "    response=h_db.create_table( table_name=table_name,type_id=type_id,options={\"collection_name\":collection})\n",
    "    \n",
    "creatTable()"
   ]
  },
  {
   "cell_type": "markdown",
   "metadata": {},
   "source": [
    "## load the image to database"
   ]
  },
  {
   "cell_type": "code",
   "execution_count": 13,
   "metadata": {
    "collapsed": true
   },
   "outputs": [],
   "source": [
    "def ingestImage(imageFolder=\"./images/\",tableName=\"imageTableInference\",collection=\"MASTER\"):\n",
    "    datum = collections.OrderedDict()\n",
    "    encoded_obj_list=[]\n",
    "    listImages=os.listdir(imageFolder)\n",
    "    for image in listImages:\n",
    "        myimage=open(imageFolder+image,\"r\").read()\n",
    "        datum[\"image\"] = myimage\n",
    "        encoded_obj_list.append(h_db.encode_datum(my_type, datum))\n",
    "    #print encoded_obj_list\n",
    "    response = h_db.insert_records( table_name = tableName,\n",
    "                                    data = encoded_obj_list,\n",
    "                                    list_encoding = 'binary',\n",
    "                                    options = {} )\n",
    "\n",
    "ingestImage()"
   ]
  },
  {
   "cell_type": "code",
   "execution_count": null,
   "metadata": {
    "collapsed": true
   },
   "outputs": [],
   "source": []
  }
 ],
 "metadata": {
  "kernelspec": {
   "display_name": "Python 2",
   "language": "python",
   "name": "python2"
  },
  "language_info": {
   "codemirror_mode": {
    "name": "ipython",
    "version": 2
   },
   "file_extension": ".py",
   "mimetype": "text/x-python",
   "name": "python",
   "nbconvert_exporter": "python",
   "pygments_lexer": "ipython2",
   "version": "2.7.5"
  }
 },
 "nbformat": 4,
 "nbformat_minor": 2
}
