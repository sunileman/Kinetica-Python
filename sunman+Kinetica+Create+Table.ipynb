{
 "cells": [
  {
   "cell_type": "markdown",
   "metadata": {
    "collapsed": true
   },
   "source": [
    "# Kinetica Create Table Example\n",
    "Simple notebook demostrationing how to create table in Kinetica via Pytho"
   ]
  },
  {
   "cell_type": "code",
   "execution_count": null,
   "metadata": {
    "collapsed": true
   },
   "outputs": [],
   "source": [
    "import os\n",
    "import fnmatch\n",
    "import sys\n",
    "sys.path.insert(0, '/opt/gpudb/api/python/gpudb/')\n",
    "sys.path.insert(0, '/opt/gpudb/api/python/gpudb/packages')\n",
    "\n",
    "import cStringIO\n",
    "import collections\n",
    "from avro import schema, io\n",
    "import base64\n",
    "import gpudb\n",
    "import random\n",
    "import math\n",
    "from faker import Factory\n",
    "fake = Factory.create()\n",
    "import time\n",
    "\n",
    "gpudb_host = \"127.0.0.1\"\n",
    "my_collection = \"MASTER\"\n",
    "my_table = \"your_table\"\n",
    "USER_NAME='admin'\n",
    "PASSWORD='****'\n",
    "h_db = gpudb.GPUdb(encoding = 'BINARY', host = gpudb_host, port = '9191', username=USER_NAME, password=PASSWORD)"
   ]
  },
  {
   "cell_type": "markdown",
   "metadata": {},
   "source": [
    "Truncate table"
   ]
  },
  {
   "cell_type": "code",
   "execution_count": null,
   "metadata": {
    "collapsed": true
   },
   "outputs": [],
   "source": [
    "h_db.clear_table( table_name = my_table, authorization = '', options = {} )"
   ]
  },
  {
   "cell_type": "markdown",
   "metadata": {},
   "source": [
    "Build Table"
   ]
  },
  {
   "cell_type": "code",
   "execution_count": null,
   "metadata": {},
   "outputs": [],
   "source": [
    "columns = []\n",
    "columns.append(gpudb.GPUdbRecordColumn(\"state_province\", gpudb.GPUdbRecordColumn._ColumnType.STRING, [gpudb.GPUdbColumnProperty.CHAR32]))\n",
    "columns.append(gpudb.GPUdbRecordColumn(\"country\", gpudb.GPUdbRecordColumn._ColumnType.STRING, [gpudb.GPUdbColumnProperty.CHAR64]))\n",
    "columns.append(gpudb.GPUdbRecordColumn(\"date\", gpudb.GPUdbRecordColumn._ColumnType.STRING, [gpudb.GPUdbColumnProperty.DATE]))\n",
    "columns.append(gpudb.GPUdbRecordColumn(\"timestamp\", gpudb.GPUdbRecordColumn._ColumnType.LONG, [gpudb.GPUdbColumnProperty.TIMESTAMP]))\n",
    "\n",
    "# Create the type object\n",
    "image_record_type = gpudb.GPUdbRecordType(columns, label=\"your_record_table\")\n",
    "\n",
    "\"\"\" Create the type in the database and save the type ID, needed to create\n",
    "    a table in the next step \"\"\"\n",
    "image_record_type.create_type(h_db)\n",
    "image_type_id = image_record_type.type_id\n",
    "\n"
   ]
  },
  {
   "cell_type": "markdown",
   "metadata": {},
   "source": [
    "Create Table"
   ]
  },
  {
   "cell_type": "code",
   "execution_count": null,
   "metadata": {
    "collapsed": true
   },
   "outputs": [],
   "source": [
    "response = h_db.create_table(table_name=my_table, type_id=image_type_id,options = {\"collection_name\":my_collection})\n",
    "print \"Table created:  {}\".format(response['status_info']['status'])\n"
   ]
  }
 ],
 "metadata": {
  "kernelspec": {
   "display_name": "Python 2",
   "language": "python",
   "name": "python2"
  },
  "language_info": {
   "codemirror_mode": {
    "name": "ipython",
    "version": 2
   },
   "file_extension": ".py",
   "mimetype": "text/x-python",
   "name": "python",
   "nbconvert_exporter": "python",
   "pygments_lexer": "ipython2",
   "version": "2.7.5"
  }
 },
 "nbformat": 4,
 "nbformat_minor": 2
}
